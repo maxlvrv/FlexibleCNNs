{
 "cells": [
  {
   "cell_type": "code",
   "execution_count": 1,
   "metadata": {},
   "outputs": [
    {
     "name": "stdout",
     "output_type": "stream",
     "text": [
      "Files already downloaded and verified\n",
      "Files already downloaded and verified\n"
     ]
    }
   ],
   "source": [
    "\"\"\"\n",
    "\n",
    "Date: 12 Feb 2020\n",
    "\n",
    "Python version:      3.7\n",
    "Tensorboard version: 1.14.0\n",
    "PyTorch version:     1.2.0\n",
    "\n",
    "@author: Maksim Lavrov\n",
    "\n",
    "CIFAR10\n",
    "\n",
    "BCM-inspired sliding threshold implementation\n",
    "\n",
    "\"\"\"\n",
    "\n",
    "# imports\n",
    "import matplotlib.pyplot as plt\n",
    "from mpl_toolkits.axes_grid1 import make_axes_locatable\n",
    "import numpy as np\n",
    "\n",
    "import torch\n",
    "import torchvision\n",
    "import torchvision.transforms as transforms\n",
    "\n",
    "import torch.nn as nn\n",
    "import torch.nn.functional as F\n",
    "import torch.optim as optim\n",
    "\n",
    "# transforms\n",
    "transform = transforms.Compose(\n",
    "    [transforms.ToTensor(),\n",
    "     transforms.Normalize((0.5, 0.5, 0.5), (0.5, 0.5, 0.5))])\n",
    "\n",
    "# datasets\n",
    "trainset = torchvision.datasets.CIFAR10('./data',\n",
    "    download=True,\n",
    "    train=True,\n",
    "    transform=transform)\n",
    "testset = torchvision.datasets.CIFAR10('./data',\n",
    "    download=True,\n",
    "    train=False,\n",
    "    transform=transform)\n",
    "\n",
    "#create a dataset subset to reduce training time\n",
    "\n",
    "sampler_train = list(range(0, len(trainset), 5000))\n",
    "sampler_test = list(range(0, len(testset), 5000))\n",
    "trainset_samp = torch.utils.data.Subset(trainset, sampler_train)\n",
    "testset_samp = torch.utils.data.Subset(testset, sampler_test)\n",
    "\n",
    "#set size of batch and learning rate\n",
    "batch_size=4\n",
    "lr=0.001\n",
    "tlr=0.01 #threshold learning rate\n",
    "\n",
    "# dataloaders\n",
    "trainloader = torch.utils.data.DataLoader(trainset, batch_size=batch_size,\n",
    "                                        shuffle=True, num_workers=2)\n",
    "\n",
    "testloader = torch.utils.data.DataLoader(testset, batch_size=batch_size,\n",
    "                                        shuffle=False, num_workers=2)\n",
    "\n",
    "# constant for classes\n",
    "classes = ('plane', 'car', 'bird', 'cat',\n",
    "           'deer', 'dog', 'frog', 'horse', 'ship', 'truck')"
   ]
  },
  {
   "cell_type": "code",
   "execution_count": 2,
   "metadata": {},
   "outputs": [],
   "source": [
    "class FlexiLayer(nn.Conv2d):\n",
    "    def __init__(self, in_channels, out_channels, kernel_size, stride=1,\n",
    "                 padding=0, dilation=1, groups=1,\n",
    "                 bias=True, padding_mode='zeros'):\n",
    "        kernel_size = kernel_size\n",
    "        stride = stride\n",
    "        padding = padding\n",
    "        dilation = dilation\n",
    "        super(FlexiLayer, self).__init__(\n",
    "            in_channels, out_channels, kernel_size, stride, padding, dilation,\n",
    "            groups, bias, padding_mode)\n",
    "        \n",
    "        #theta\n",
    "        #self.threshold1 = nn.parameter.Parameter(torch.zeros((batch_size, 12, 28, 28)), requires_grad=True)\n",
    "        #mask\n",
    "        #self.wconv = nn.parameter.Parameter(torch.empty(batch_size, 12, 28, 28).normal_(mean=0.5,std=0.1), requires_grad=True)\n",
    "        #self.wmax = nn.parameter.Parameter(torch.empty(batch_size, 12, 28, 28).normal_(mean=0.5,std=0.1), requires_grad=True)\n",
    "        #output target\n",
    "        self.ttarget = nn.parameter.Parameter(torch.ones((4, 12, 28, 28)), requires_grad=True)\n",
    "        \n",
    "        #theta\n",
    "        self.threshold1 = torch.zeros((4, 12, 28, 28))\n",
    "        #mask\n",
    "        self.wconv = torch.empty(4, 12, 28, 28).normal_(mean=0.5,std=0.1)\n",
    "        self.wmax = torch.empty(4, 12, 28, 28).normal_(mean=0.5,std=0.1)\n",
    "        #output target\n",
    "        #self.ttarget = torch.ones((4, 12, 28, 28))\n",
    "        \n",
    "        self.memorized = self.threshold1.clone()\n",
    "        self.memorized_1loop = []\n",
    "        self.memorized_1pixel = []\n",
    "        self.thresh_max = []\n",
    "        self.thresh_min = []\n",
    "        self.thresh_mean = []\n",
    "            \n",
    "    def forward(self, t):\n",
    "        \n",
    "        t_1 = F.relu(F.conv2d(t, self.weight)) # get convolution result\n",
    "        t_2 = F.avg_pool2d(t, kernel_size=5, stride=1) # get avg result with the same kernel size\n",
    "        t_2 = torch.cat((t_2, t_2, t_2, t_2), 1)\n",
    "        t_conv = torch.mul(self.wconv,t_1)\n",
    "        t_max = torch.mul(self.wmax,t_2)\n",
    "        t = torch.add(t_conv, t_max) # compute the output\n",
    "        self.threshold1 = self.threshold1 + tlr*(t**2/self.ttarget - self.threshold1) # update threshold\n",
    "        self.wconv = self.wconv + lr*t_1*t*(t-self.threshold1) # update conv mask\n",
    "        self.wmax = self.wmax + lr*t_2*t*(t-self.threshold1) # update max mask\n",
    "        self.wconv[self.wconv < 0] = 0 # remove negative values\n",
    "        self.wmax[self.wmax < 0] = 0 # remove negative values\n",
    "        \n",
    "        return t"
   ]
  },
  {
   "cell_type": "markdown",
   "metadata": {},
   "source": [
    "max1 = net.flex1.memorized\n",
    "conv1 = net.flex1.memorized\n",
    "#input1 = torch.cat([max1, conv1], 0)\n",
    "#print(input1.size())\n",
    "mask = net.flex1.memorized\n",
    "print(mask.size())\n",
    "y = torch.mul(mask,max1)  # output of masked max\n",
    "print(y.size())\n",
    "t = mask*max1*(max1**2-mask)\n",
    "print(t.size())"
   ]
  },
  {
   "cell_type": "code",
   "execution_count": 3,
   "metadata": {},
   "outputs": [
    {
     "data": {
      "image/png": "[encoded data removed]",
      "text/plain": [
       "<Figure size 432x288 with 1 Axes>"
      ]
     },
     "metadata": {
      "needs_background": "light"
     },
     "output_type": "display_data"
    }
   ],
   "source": [
    "class Net(nn.Module):\n",
    "    def __init__(self):\n",
    "        super().__init__()\n",
    "        self.flex1 = FlexiLayer(in_channels=3, out_channels=12, kernel_size=5)\n",
    "        \n",
    "        self.fc1 = nn.Linear(in_features= 3 * 56 * 56, out_features=120)\n",
    "        self.fc2 = nn.Linear(in_features=120, out_features=60)\n",
    "        self.out = nn.Linear(in_features=60, out_features=10) # number of classes\n",
    "\n",
    "    def forward(self, t):\n",
    "        \n",
    "        # (2) Flexible layer\n",
    "        t = self.flex1(t)\n",
    "        \n",
    "        # (4) hidden linear layer\n",
    "        t = F.relu(self.fc1(t.reshape(-1, 3 * 56 * 56)))\n",
    "        # (5) hidden linear layer\n",
    "        t = F.relu(self.fc2(t))\n",
    "        # (6) output layer\n",
    "        t = self.out(t)\n",
    "        \n",
    "        return t\n",
    "\n",
    "net = Net()\n",
    "\n",
    "if torch.cuda.is_available():\n",
    "    net.cuda()\n",
    "\n",
    "memorized = net.flex1.memorized\n",
    "#before training\n",
    "imgplot = plt.imshow(net.flex1.threshold1.detach().numpy()[1,1,:] - memorized.detach().numpy()[1,1,:])"
   ]
  },
  {
   "cell_type": "code",
   "execution_count": 4,
   "metadata": {},
   "outputs": [],
   "source": [
    "criterion = nn.CrossEntropyLoss()\n",
    "optimizer = optim.SGD(net.parameters(), lr=lr, momentum=0.9)"
   ]
  },
  {
   "cell_type": "code",
   "execution_count": 5,
   "metadata": {},
   "outputs": [],
   "source": [
    "# helper functions\n",
    "\n",
    "# helper function to show an image\n",
    "# (used in the `plot_classes_preds` function below)\n",
    "def matplotlib_imshow(img, one_channel=False):\n",
    "    if one_channel:\n",
    "        img = img.mean(dim=0)\n",
    "    img = img / 2 + 0.5     # unnormalize\n",
    "    npimg = img.numpy()\n",
    "    if one_channel:\n",
    "        plt.imshow(npimg, cmap=\"Greys\")\n",
    "    else:\n",
    "        plt.imshow(np.transpose(npimg, (1, 2, 0)))\n",
    "\n",
    "def images_to_probs(net, images):\n",
    "    '''\n",
    "    Generates predictions and corresponding probabilities from a trained\n",
    "    network and a list of images\n",
    "    '''\n",
    "    output = net(images)\n",
    "    # convert output probabilities to predicted class\n",
    "    _, preds_tensor = torch.max(output, 1)\n",
    "    preds = np.squeeze(preds_tensor.numpy())\n",
    "    return preds, [F.softmax(el, dim=0)[i].item() for i, el in zip(preds, output)]\n",
    "\n",
    "\n",
    "def plot_classes_preds(net, images, labels):\n",
    "    '''\n",
    "    Generates matplotlib Figure using a trained network, along with images\n",
    "    and labels from a batch, that shows the network's top prediction along\n",
    "    with its probability, alongside the actual label, coloring this\n",
    "    information based on whether the prediction was correct or not.\n",
    "    Uses the \"images_to_probs\" function.\n",
    "    '''\n",
    "    preds, probs = images_to_probs(net, images)\n",
    "    # plot the images in the batch, along with predicted and true labels\n",
    "    fig = plt.figure(figsize=(12, 48))\n",
    "    for idx in np.arange(4):\n",
    "        ax = fig.add_subplot(1, 4, idx+1, xticks=[], yticks=[])\n",
    "        matplotlib_imshow(images[idx], one_channel=True)\n",
    "        ax.set_title(\"{0}, {1:.1f}%\\n(label: {2})\".format(\n",
    "            classes[preds[idx]],\n",
    "            probs[idx] * 100.0,\n",
    "            classes[labels[idx]]),\n",
    "                    color=(\"green\" if preds[idx]==labels[idx].item() else \"red\"))\n",
    "    return fig\n",
    "\n",
    "def get_num_correct(preds, labels):\n",
    "    return preds.argmax(dim=1).eq(labels).sum().item()"
   ]
  },
  {
   "cell_type": "code",
   "execution_count": 6,
   "metadata": {},
   "outputs": [
    {
     "data": {
      "image/png": "[encoded data removed]",
      "text/plain": [
       "<Figure size 432x288 with 1 Axes>"
      ]
     },
     "metadata": {
      "needs_background": "light"
     },
     "output_type": "display_data"
    },
    {
     "name": "stdout",
     "output_type": "stream",
     "text": [
      "  cat  frog truck truck\n"
     ]
    }
   ],
   "source": [
    "def imshow(img):\n",
    "    img = img / 2 + 0.5     # unnormalize\n",
    "    npimg = img.numpy()\n",
    "    plt.imshow(np.transpose(npimg, (1, 2, 0)))\n",
    "    plt.show()\n",
    "\n",
    "\n",
    "# get some random training images\n",
    "dataiter = iter(trainloader)\n",
    "images, labels = dataiter.next()\n",
    "\n",
    "# show images\n",
    "imshow(torchvision.utils.make_grid(images))\n",
    "# print labels\n",
    "print(' '.join('%5s' % classes[labels[j]] for j in range(4)))"
   ]
  },
  {
   "cell_type": "code",
   "execution_count": 7,
   "metadata": {},
   "outputs": [
    {
     "data": {
      "text/plain": [
       "<Figure size 432x288 with 0 Axes>"
      ]
     },
     "metadata": {},
     "output_type": "display_data"
    },
    {
     "data": {
      "image/png": "[encoded data removed]",
      "text/plain": [
       "<Figure size 720x720 with 12 Axes>"
      ]
     },
     "metadata": {
      "needs_background": "light"
     },
     "output_type": "display_data"
    }
   ],
   "source": [
    "# plot the flex weights before training\n",
    "\n",
    "fig = plt.figure()\n",
    "plt.figure(figsize=(10,10))\n",
    "plt.suptitle('Flexilayer weights before training', fontsize = 16)\n",
    "for idx, filt  in enumerate(net.flex1.weight.detach().numpy()[:,0,:,:]):\n",
    "    plt.subplot(3,4, idx + 1)\n",
    "    plt.imshow(net.flex1.weight.detach().numpy()[idx,0,:,:]) # , cmap=\"gray\"\n",
    "\n",
    "    \n",
    "fig.show()"
   ]
  },
  {
   "cell_type": "code",
   "execution_count": 8,
   "metadata": {},
   "outputs": [
    {
     "ename": "KeyboardInterrupt",
     "evalue": "",
     "output_type": "error",
     "traceback": [
      "\u001b[0;31m---------------------------------------------------------------------------\u001b[0m",
      "\u001b[0;31mKeyboardInterrupt\u001b[0m                         Traceback (most recent call last)",
      "\u001b[0;32m<ipython-input-8-423ede9cf5ed>\u001b[0m in \u001b[0;36m<module>\u001b[0;34m\u001b[0m\n\u001b[1;32m     21\u001b[0m         \u001b[0moutputs\u001b[0m \u001b[0;34m=\u001b[0m \u001b[0mnet\u001b[0m\u001b[0;34m(\u001b[0m\u001b[0minputs\u001b[0m\u001b[0;34m)\u001b[0m\u001b[0;34m\u001b[0m\u001b[0;34m\u001b[0m\u001b[0m\n\u001b[1;32m     22\u001b[0m         \u001b[0mloss\u001b[0m \u001b[0;34m=\u001b[0m \u001b[0mcriterion\u001b[0m\u001b[0;34m(\u001b[0m\u001b[0moutputs\u001b[0m\u001b[0;34m,\u001b[0m \u001b[0mlabels\u001b[0m\u001b[0;34m)\u001b[0m\u001b[0;34m\u001b[0m\u001b[0;34m\u001b[0m\u001b[0m\n\u001b[0;32m---> 23\u001b[0;31m         \u001b[0mloss\u001b[0m\u001b[0;34m.\u001b[0m\u001b[0mbackward\u001b[0m\u001b[0;34m(\u001b[0m\u001b[0mretain_graph\u001b[0m\u001b[0;34m=\u001b[0m\u001b[0;32mTrue\u001b[0m\u001b[0;34m)\u001b[0m\u001b[0;34m\u001b[0m\u001b[0;34m\u001b[0m\u001b[0m\n\u001b[0m\u001b[1;32m     24\u001b[0m         \u001b[0moptimizer\u001b[0m\u001b[0;34m.\u001b[0m\u001b[0mstep\u001b[0m\u001b[0;34m(\u001b[0m\u001b[0;34m)\u001b[0m\u001b[0;34m\u001b[0m\u001b[0;34m\u001b[0m\u001b[0m\n\u001b[1;32m     25\u001b[0m \u001b[0;34m\u001b[0m\u001b[0m\n",
      "\u001b[0;32m~/Anaconda/anaconda2/envs/meng/lib/python3.8/site-packages/torch/tensor.py\u001b[0m in \u001b[0;36mbackward\u001b[0;34m(self, gradient, retain_graph, create_graph)\u001b[0m\n\u001b[1;32m    193\u001b[0m                 \u001b[0mproducts\u001b[0m\u001b[0;34m.\u001b[0m \u001b[0mDefaults\u001b[0m \u001b[0mto\u001b[0m\u001b[0;31m \u001b[0m\u001b[0;31m`\u001b[0m\u001b[0;31m`\u001b[0m\u001b[0;32mFalse\u001b[0m\u001b[0;31m`\u001b[0m\u001b[0;31m`\u001b[0m\u001b[0;34m.\u001b[0m\u001b[0;34m\u001b[0m\u001b[0;34m\u001b[0m\u001b[0m\n\u001b[1;32m    194\u001b[0m         \"\"\"\n\u001b[0;32m--> 195\u001b[0;31m         \u001b[0mtorch\u001b[0m\u001b[0;34m.\u001b[0m\u001b[0mautograd\u001b[0m\u001b[0;34m.\u001b[0m\u001b[0mbackward\u001b[0m\u001b[0;34m(\u001b[0m\u001b[0mself\u001b[0m\u001b[0;34m,\u001b[0m \u001b[0mgradient\u001b[0m\u001b[0;34m,\u001b[0m \u001b[0mretain_graph\u001b[0m\u001b[0;34m,\u001b[0m \u001b[0mcreate_graph\u001b[0m\u001b[0;34m)\u001b[0m\u001b[0;34m\u001b[0m\u001b[0;34m\u001b[0m\u001b[0m\n\u001b[0m\u001b[1;32m    196\u001b[0m \u001b[0;34m\u001b[0m\u001b[0m\n\u001b[1;32m    197\u001b[0m     \u001b[0;32mdef\u001b[0m \u001b[0mregister_hook\u001b[0m\u001b[0;34m(\u001b[0m\u001b[0mself\u001b[0m\u001b[0;34m,\u001b[0m \u001b[0mhook\u001b[0m\u001b[0;34m)\u001b[0m\u001b[0;34m:\u001b[0m\u001b[0;34m\u001b[0m\u001b[0;34m\u001b[0m\u001b[0m\n",
      "\u001b[0;32m~/Anaconda/anaconda2/envs/meng/lib/python3.8/site-packages/torch/autograd/__init__.py\u001b[0m in \u001b[0;36mbackward\u001b[0;34m(tensors, grad_tensors, retain_graph, create_graph, grad_variables)\u001b[0m\n\u001b[1;32m     95\u001b[0m         \u001b[0mretain_graph\u001b[0m \u001b[0;34m=\u001b[0m \u001b[0mcreate_graph\u001b[0m\u001b[0;34m\u001b[0m\u001b[0;34m\u001b[0m\u001b[0m\n\u001b[1;32m     96\u001b[0m \u001b[0;34m\u001b[0m\u001b[0m\n\u001b[0;32m---> 97\u001b[0;31m     Variable._execution_engine.run_backward(\n\u001b[0m\u001b[1;32m     98\u001b[0m         \u001b[0mtensors\u001b[0m\u001b[0;34m,\u001b[0m \u001b[0mgrad_tensors\u001b[0m\u001b[0;34m,\u001b[0m \u001b[0mretain_graph\u001b[0m\u001b[0;34m,\u001b[0m \u001b[0mcreate_graph\u001b[0m\u001b[0;34m,\u001b[0m\u001b[0;34m\u001b[0m\u001b[0;34m\u001b[0m\u001b[0m\n\u001b[1;32m     99\u001b[0m         allow_unreachable=True)  # allow_unreachable flag\n",
      "\u001b[0;31mKeyboardInterrupt\u001b[0m: "
     ]
    }
   ],
   "source": [
    "running_loss = 0.0\n",
    "total_loss_plt = []\n",
    "for epoch in range(25):  # loop over the dataset multiple times\n",
    "    \n",
    "    total_loss = 0\n",
    "    total_correct = 0\n",
    "    \n",
    "    nsamples = 1000\n",
    "\n",
    "    for i, data in enumerate(trainloader, 0):\n",
    "        \n",
    "        # get the inputs; data is a list of [inputs, labels]\n",
    "        inputs, labels = data\n",
    "        \n",
    "        preds = net(inputs) # Pass batch\n",
    "\n",
    "        # zero the parameter gradients\n",
    "        optimizer.zero_grad()\n",
    "\n",
    "        # forward + backward + optimize\n",
    "        outputs = net(inputs)\n",
    "        loss = criterion(outputs, labels)\n",
    "        loss.backward(retain_graph=True)\n",
    "        optimizer.step()\n",
    "        \n",
    "        total_loss += loss.item() * batch_size\n",
    "        total_correct += get_num_correct(preds, labels)\n",
    "        \n",
    "        net.flex1.memorized_1pixel.append(net.flex1.threshold1.detach().numpy()[1,1,10,10])\n",
    "        net.flex1.thresh_max.append(torch.max(net.flex1.threshold1))\n",
    "        net.flex1.thresh_min.append(torch.min(net.flex1.threshold1))\n",
    "        net.flex1.thresh_mean.append(torch.mean(net.flex1.threshold1))\n",
    "        \n",
    "        #if i % int(len(trainloader)/500) == 0:\n",
    "           # print(\"loss:\", total_loss)\n",
    "    \n",
    "        if i == len(trainloader)-1:\n",
    "            net.flex1.memorized_1loop = net.flex1.threshold1\n",
    "            #at the end of every epoch plot threshold\n",
    "            title = 'T'+str(epoch)\n",
    "            plt.subplot(8,8, epoch + 1)\n",
    "            plt.subplots_adjust(hspace=0.4, bottom=0.2)\n",
    "            plt.title(title)\n",
    "            #imgplot = plt.imshow(net.flex1.threshold1.detach().numpy()[1,1,:])\n",
    "            imgplot = plt.imshow(net.flex1.memorized_1loop.detach().numpy()[1,1,:] - memorized.detach().numpy()[1,1,:])\n",
    "            \n",
    "       \n",
    "    total_loss_plt.append(total_loss)\n",
    "        \n",
    "    print(\"epoch:\", epoch, \"loss:\", total_loss)\n",
    "        \n",
    "print('Finished Training')"
   ]
  },
  {
   "cell_type": "code",
   "execution_count": null,
   "metadata": {},
   "outputs": [],
   "source": [
    "plt.plot(total_loss_plt)\n",
    "plt.ylabel('Loss')\n",
    "plt.xlabel('Epochs')\n",
    "plt.show()"
   ]
  },
  {
   "cell_type": "code",
   "execution_count": null,
   "metadata": {},
   "outputs": [],
   "source": [
    "print('Training Accuracy is ', total_correct / len(trainset))"
   ]
  },
  {
   "cell_type": "code",
   "execution_count": null,
   "metadata": {},
   "outputs": [],
   "source": [
    "#evaluate model\n",
    "correct = 0\n",
    "total = 0\n",
    "with torch.no_grad():\n",
    "    for data in testloader:\n",
    "        images, labels = data\n",
    "        outputs = net(images)\n",
    "        _, predicted = torch.max(outputs.data, 1)\n",
    "        total += labels.size(0)\n",
    "        correct += (predicted == labels).sum().item()\n",
    "\n",
    "print('Test Data Accuracy of the network is: %f %%' % (\n",
    "    100 * correct / total))"
   ]
  },
  {
   "cell_type": "code",
   "execution_count": null,
   "metadata": {},
   "outputs": [],
   "source": [
    "#after training\n",
    "plt.figure()\n",
    "thresh_hist = torch.histc(net.flex1.wconv)\n",
    "start = np.min(net.flex1.wconv.detach().numpy())\n",
    "end = np.max(net.flex1.wconv.detach().numpy())\n",
    "xhist = torch.linspace(start,end,100) # histogram x-axis\n",
    "plt.plot(xhist, thresh_hist.detach().numpy())\n",
    "plt.title('Conv mask histogram after training')\n",
    "plt.xlabel('Count')\n",
    "plt.xlabel('Conv mask values')"
   ]
  },
  {
   "cell_type": "code",
   "execution_count": null,
   "metadata": {},
   "outputs": [],
   "source": [
    "#after training\n",
    "plt.figure()\n",
    "thresh_hist = torch.histc(net.flex1.wmax)\n",
    "start = np.min(net.flex1.wmax.detach().numpy())\n",
    "end = np.max(net.flex1.wmax.detach().numpy())\n",
    "xhist = torch.linspace(start,end,100) # histogram x-axis\n",
    "plt.plot(xhist, thresh_hist.detach().numpy())\n",
    "plt.title('Max mask histogram after training')\n",
    "plt.xlabel('Count')\n",
    "plt.xlabel('Max mask values')"
   ]
  },
  {
   "cell_type": "code",
   "execution_count": null,
   "metadata": {},
   "outputs": [],
   "source": [
    "#before training\n",
    "plt.figure()\n",
    "thresh_hist = torch.histc(memorized)\n",
    "start = np.min(memorized.detach().numpy())\n",
    "end = np.max(memorized.detach().numpy())\n",
    "xhist = torch.linspace(start,end,100) # histogram x-axis\n",
    "plt.plot(xhist, thresh_hist.detach().numpy())\n",
    "plt.title('Threshold layer histogram before training')\n",
    "plt.xlabel('Count')\n",
    "plt.xlabel('Threshold layer values')"
   ]
  },
  {
   "cell_type": "code",
   "execution_count": null,
   "metadata": {},
   "outputs": [],
   "source": [
    "#after training\n",
    "plt.figure()\n",
    "thresh_hist = torch.histc(net.flex1.threshold1)\n",
    "start = np.min(net.flex1.threshold1.detach().numpy())\n",
    "end = np.max(net.flex1.threshold1.detach().numpy())\n",
    "xhist = torch.linspace(start,end,100) # histogram x-axis\n",
    "plt.plot(xhist, thresh_hist.detach().numpy())\n",
    "plt.title('Threshold layer histogram after training')\n",
    "plt.xlabel('Count')\n",
    "plt.xlabel('Threshold layer values')"
   ]
  },
  {
   "cell_type": "code",
   "execution_count": null,
   "metadata": {},
   "outputs": [],
   "source": [
    "#after training\n",
    "imgplot = plt.imshow(net.flex1.threshold1.detach().numpy()[1,1,:] - memorized.detach().numpy()[1,1,:])\n",
    "plt.colorbar()"
   ]
  },
  {
   "cell_type": "code",
   "execution_count": null,
   "metadata": {},
   "outputs": [],
   "source": [
    "# plot the flex weights after training\n",
    "\n",
    "fig = plt.figure()\n",
    "fig = plt.figure(figsize=(10,10))\n",
    "plt.suptitle('Flexilayer weights after training', fontsize = 16)\n",
    "for idx, filt  in enumerate(net.flex1.weight.detach().numpy()[:,0,:,:]):\n",
    "    im = plt.subplot(3,4, idx + 1)\n",
    "    plt.imshow(net.flex1.weight.detach().numpy()[idx,0,:,:]) # , cmap=\"gray\"\n",
    "#plt.colorbar()\n",
    "\n",
    "    \n",
    "fig.show()"
   ]
  },
  {
   "cell_type": "code",
   "execution_count": null,
   "metadata": {},
   "outputs": [],
   "source": [
    "plt.plot(net.flex1.memorized_1pixel)\n",
    "plt.ylabel('Single threshold layer pixel values')\n",
    "plt.xlabel('Optimiser steps')\n",
    "plt.show()"
   ]
  },
  {
   "cell_type": "code",
   "execution_count": null,
   "metadata": {},
   "outputs": [],
   "source": [
    "plt.plot(net.flex1.thresh_mean)\n",
    "plt.ylabel('Threshold layer mean value')\n",
    "plt.xlabel('Optimiser steps')\n",
    "plt.show()"
   ]
  },
  {
   "cell_type": "code",
   "execution_count": null,
   "metadata": {},
   "outputs": [],
   "source": []
  },
  {
   "cell_type": "code",
   "execution_count": null,
   "metadata": {},
   "outputs": [],
   "source": []
  }
 ],
 "metadata": {
  "kernelspec": {
   "display_name": "Python 3",
   "language": "python",
   "name": "python3"
  },
  "language_info": {
   "codemirror_mode": {
    "name": "ipython",
    "version": 3
   },
   "file_extension": ".py",
   "mimetype": "text/x-python",
   "name": "python",
   "nbconvert_exporter": "python",
   "pygments_lexer": "ipython3",
   "version": "3.8.1"
  }
 },
 "nbformat": 4,
 "nbformat_minor": 2
}
